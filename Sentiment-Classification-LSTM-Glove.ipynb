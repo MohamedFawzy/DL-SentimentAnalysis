{
 "cells": [
  {
   "cell_type": "code",
   "execution_count": 1,
   "metadata": {},
   "outputs": [],
   "source": [
    "from __future__ import absolute_import\n",
    "from __future__ import division\n",
    "from __future__ import print_function"
   ]
  },
  {
   "cell_type": "code",
   "execution_count": 2,
   "metadata": {},
   "outputs": [],
   "source": [
    "import collections\n",
    "import math\n",
    "import os\n",
    "import random\n",
    "import tarfile\n",
    "import re"
   ]
  },
  {
   "cell_type": "code",
   "execution_count": 3,
   "metadata": {},
   "outputs": [],
   "source": [
    "from six.moves import urllib"
   ]
  },
  {
   "cell_type": "code",
   "execution_count": 4,
   "metadata": {},
   "outputs": [],
   "source": [
    "import numpy as np\n",
    "import matplotlib as mp\n",
    "import matplotlib.pyplot as plt\n",
    "import tensorflow as tf\n",
    "import tensorflow.contrib.learn as skflow"
   ]
  },
  {
   "cell_type": "code",
   "execution_count": 5,
   "metadata": {},
   "outputs": [
    {
     "name": "stdout",
     "output_type": "stream",
     "text": [
      "1.16.3\n",
      "3.0.2\n",
      "1.10.0\n"
     ]
    }
   ],
   "source": [
    "print(np.__version__)\n",
    "print(mp.__version__)\n",
    "print(tf.__version__)"
   ]
  },
  {
   "cell_type": "code",
   "execution_count": 6,
   "metadata": {},
   "outputs": [],
   "source": [
    "DOWNLOAD_FILENAME = 'imdbReviews.tar.gz'\n",
    "\n",
    "def download_file(url_path):\n",
    "    \n",
    "    if not os.path.exists(DOWNLOAD_FILENAME):\n",
    "        filename , _ = urllib.request.urlretrieve(url_path, DOWNLOAD_FILENAME)\n",
    "    \n",
    "    print('Found and verified file from this path : ', url_path)\n",
    "    print('Download file: ', DOWNLOAD_FILENAME)"
   ]
  },
  {
   "cell_type": "code",
   "execution_count": 7,
   "metadata": {},
   "outputs": [],
   "source": [
    "TOKEN_REGEX = re.compile(\"[^A-Za-z0-9 ]+\")\n",
    "\n",
    "def get_reviews(dirname, positive=True):\n",
    "    label = 1 if positive else 0\n",
    "    \n",
    "    reviews = []\n",
    "    labels = []\n",
    "    \n",
    "    for filename in os.listdir(dirname):\n",
    "        if filename.endswith(\".txt\"):\n",
    "            with open(dirname + filename, 'r+') as f:\n",
    "                \n",
    "                review = f.read()\n",
    "                review = review.lower().replace(\"<br />\", \" \")\n",
    "                review = re.sub(TOKEN_REGEX, \"\", review)\n",
    "                \n",
    "                reviews.append(review)\n",
    "                labels.append(label)\n",
    "    \n",
    "    return reviews, labels"
   ]
  },
  {
   "cell_type": "code",
   "execution_count": 8,
   "metadata": {},
   "outputs": [],
   "source": [
    "def extract_labels_data():\n",
    "    if not os.path.exists('aclImdb'):\n",
    "        with tarfile.open(DOWNLOAD_FILENAME) as tar:\n",
    "            tar.extractall()\n",
    "            tar.close()\n",
    "    \n",
    "    positive_reviews, positive_labels = get_reviews(\"aclImdb/train/pos/\", positive=True)\n",
    "    negative_reviews, negative_labels = get_reviews(\"aclImdb/train/neg/\", positive=False)\n",
    "    \n",
    "    data = positive_reviews + negative_reviews\n",
    "    labels = positive_labels + negative_labels\n",
    "    \n",
    "    return labels, data"
   ]
  },
  {
   "cell_type": "code",
   "execution_count": 9,
   "metadata": {},
   "outputs": [
    {
     "name": "stdout",
     "output_type": "stream",
     "text": [
      "Found and verified file from this path :  http://ai.stanford.edu/~amaas/data/sentiment/aclImdb_v1.tar.gz\n",
      "Download file:  imdbReviews.tar.gz\n"
     ]
    }
   ],
   "source": [
    "URL_PATH = 'http://ai.stanford.edu/~amaas/data/sentiment/aclImdb_v1.tar.gz'\n",
    "download_file(URL_PATH)"
   ]
  },
  {
   "cell_type": "code",
   "execution_count": 10,
   "metadata": {},
   "outputs": [],
   "source": [
    "labels, data = extract_labels_data()"
   ]
  },
  {
   "cell_type": "code",
   "execution_count": 11,
   "metadata": {},
   "outputs": [
    {
     "data": {
      "text/plain": [
       "[1, 1, 1, 1]"
      ]
     },
     "execution_count": 11,
     "metadata": {},
     "output_type": "execute_result"
    }
   ],
   "source": [
    "labels[:4]"
   ]
  },
  {
   "cell_type": "code",
   "execution_count": 12,
   "metadata": {},
   "outputs": [
    {
     "data": {
      "text/plain": [
       "['for a movie that gets no respect there sure are a lot of memorable quotes listed for this gem imagine a movie where joe piscopo is actually funny maureen stapleton is a scene stealer the moroni character is an absolute scream watch for alan the skipper hale jr as a police sgt',\n",
       " 'bizarre horror movie filled with famous faces but stolen by cristina raines later of tvs flamingo road as a pretty but somewhat unstable model with a gummy smile who is slated to pay for her attempted suicides by guarding the gateway to hell the scenes with raines modeling are very well captured the mood music is perfect deborah raffin is charming as cristinas pal but when raines moves into a creepy brooklyn heights brownstone inhabited by a blind priest on the top floor things really start cooking the neighbors including a fantastically wicked burgess meredith and kinky couple sylvia miles  beverly dangelo are a diabolical lot and eli wallach is great fun as a wily police detective the movie is nearly a crosspollination of rosemarys baby and the exorcistbut what a combination based on the bestseller by jeffrey konvitz the sentinel is entertainingly spooky full of shocks brought off well by director michael winner who mounts a thoughtfully downbeat ending with skill 12 from ']"
      ]
     },
     "execution_count": 12,
     "metadata": {},
     "output_type": "execute_result"
    }
   ],
   "source": [
    "data[0:2]"
   ]
  },
  {
   "cell_type": "code",
   "execution_count": 13,
   "metadata": {},
   "outputs": [
    {
     "data": {
      "text/plain": [
       "(25000, 25000)"
      ]
     },
     "execution_count": 13,
     "metadata": {},
     "output_type": "execute_result"
    }
   ],
   "source": [
    "len(labels), len(data)"
   ]
  },
  {
   "cell_type": "code",
   "execution_count": 14,
   "metadata": {},
   "outputs": [
    {
     "name": "stdout",
     "output_type": "stream",
     "text": [
      "2470\n"
     ]
    }
   ],
   "source": [
    "max_document_length = max([len(x.split(\" \")) for x in data])\n",
    "print(max_document_length)"
   ]
  },
  {
   "cell_type": "code",
   "execution_count": 15,
   "metadata": {},
   "outputs": [
    {
     "name": "stdout",
     "output_type": "stream",
     "text": [
      "10\n"
     ]
    }
   ],
   "source": [
    "min_document_length = min([len(x.split(\" \")) for x in data])\n",
    "print(min_document_length)"
   ]
  },
  {
   "cell_type": "code",
   "execution_count": 16,
   "metadata": {},
   "outputs": [
    {
     "name": "stdout",
     "output_type": "stream",
     "text": [
      "233.77672\n"
     ]
    }
   ],
   "source": [
    "average_document_length = sum(len(x.split(\" \")) for x in data) / len(data)\n",
    "print(average_document_length)"
   ]
  },
  {
   "cell_type": "code",
   "execution_count": 17,
   "metadata": {},
   "outputs": [],
   "source": [
    "MAX_SEQUENCE_LENGTH = 250"
   ]
  },
  {
   "cell_type": "code",
   "execution_count": 18,
   "metadata": {},
   "outputs": [],
   "source": [
    "words = np.load('wordsList.npy')\n",
    "words=np.array([x.decode() for x in words])"
   ]
  },
  {
   "cell_type": "code",
   "execution_count": 19,
   "metadata": {},
   "outputs": [
    {
     "data": {
      "text/plain": [
       "(array(['0', ',', '.', 'of', 'to'], dtype='<U68'), 400000)"
      ]
     },
     "execution_count": 19,
     "metadata": {},
     "output_type": "execute_result"
    }
   ],
   "source": [
    "words[:5], len(words)"
   ]
  },
  {
   "cell_type": "code",
   "execution_count": 20,
   "metadata": {},
   "outputs": [],
   "source": [
    "def get_word_index_dictonary(words):\n",
    "    dictonary = {}\n",
    "    \n",
    "    index = 0\n",
    "    for word in words:\n",
    "        dictonary[word] = index\n",
    "        index += 1\n",
    "    \n",
    "    return dictonary"
   ]
  },
  {
   "cell_type": "code",
   "execution_count": 21,
   "metadata": {},
   "outputs": [],
   "source": [
    "dictonary = get_word_index_dictonary(words)"
   ]
  },
  {
   "cell_type": "code",
   "execution_count": 22,
   "metadata": {},
   "outputs": [
    {
     "data": {
      "text/plain": [
       "(5, 201534, 3, 12)"
      ]
     },
     "execution_count": 22,
     "metadata": {},
     "output_type": "execute_result"
    }
   ],
   "source": [
    "dictonary['and'], dictonary['the'], dictonary['of'], dictonary['that']"
   ]
  },
  {
   "cell_type": "code",
   "execution_count": 23,
   "metadata": {},
   "outputs": [],
   "source": [
    "review_ids = []\n",
    "\n",
    "def convert_reviews_to_ids(data, words):\n",
    "    word_list = words.tolist()\n",
    "    \n",
    "    progress = 0\n",
    "    \n",
    "    \n",
    "    for review in data:\n",
    "        \n",
    "        review_id = []\n",
    "        \n",
    "        index = 0\n",
    "        \n",
    "        for word in review:\n",
    "            if index >= MAX_SEQUENCE_LENGTH:\n",
    "                break;\n",
    "            \n",
    "            \n",
    "            try:\n",
    "                review_id.append(dictonary[word])\n",
    "            except KeyError:\n",
    "                review_id.append(0)\n",
    "            \n",
    "            index += 1\n",
    "        \n",
    "        if len(review_id) < MAX_SEQUENCE_LENGTH:\n",
    "            review_id = np.pad(review_id, (0, MAX_SEQUENCE_LENGTH - index), 'constant')\n",
    "        \n",
    "        review_ids.append(np.array(review_id))\n",
    "        progress += 1\n",
    "        \n",
    "        if progress % 1000 == 0:\n",
    "            print(\"Completed: \", progress)"
   ]
  },
  {
   "cell_type": "code",
   "execution_count": 24,
   "metadata": {},
   "outputs": [
    {
     "name": "stdout",
     "output_type": "stream",
     "text": [
      "Completed:  1000\n",
      "Completed:  2000\n",
      "Completed:  3000\n",
      "Completed:  4000\n",
      "Completed:  5000\n",
      "Completed:  6000\n",
      "Completed:  7000\n",
      "Completed:  8000\n",
      "Completed:  9000\n",
      "Completed:  10000\n",
      "Completed:  11000\n",
      "Completed:  12000\n",
      "Completed:  13000\n",
      "Completed:  14000\n",
      "Completed:  15000\n",
      "Completed:  16000\n",
      "Completed:  17000\n",
      "Completed:  18000\n",
      "Completed:  19000\n",
      "Completed:  20000\n",
      "Completed:  21000\n",
      "Completed:  22000\n",
      "Completed:  23000\n",
      "Completed:  24000\n",
      "Completed:  25000\n"
     ]
    }
   ],
   "source": [
    "convert_reviews_to_ids(data, words)"
   ]
  },
  {
   "cell_type": "code",
   "execution_count": 25,
   "metadata": {},
   "outputs": [
    {
     "data": {
      "text/plain": [
       "array([   7,   41, 5025, 1110, 1110, 3814,    0, 3410, 4868, 3814, 1534,\n",
       "          7, 5025, 2404, 1110, 1534,    0, 1993, 3524,    0, 3410,   41,\n",
       "       1911, 5025, 3880, 1911,   41, 1110, 3814, 1968,    0,   41, 1534,\n",
       "          0,   41, 3814,    0, 2159, 5918,   41, 1534,    0, 3880,   41,\n",
       "       5025, 1993,    0, 3420, 5025,    7, 3524,   41, 3814, 3410,    0,\n",
       "          7,    0, 1534, 1110, 1864, 1911, 1110, 2159,    7, 1911, 3524,\n",
       "          0,    7, 2159,    0, 2159, 5918, 1110,    0, 1993,    7,   41,\n",
       "       3814,    0, 1864, 5918,    7, 1911,    7, 1864, 2159, 1110, 1911,\n",
       "       1534,    0, 1556,    7, 3814, 4652,    0, 1534, 5918, 1110,    0,\n",
       "       5918,    7, 1534,    0,    7,    0, 5025, 4868, 2404, 1110, 5025,\n",
       "       3524,    0, 1534, 1864, 1110, 3814, 1110,    0, 5140,   41, 2159,\n",
       "       5918,    0, 1911, 4868, 1534, 5918,    7, 3814,    0, 1534, 1110,\n",
       "       2159, 5918,    0,   41, 3814,    0,    7,    0, 1911, 1110, 1534,\n",
       "       2159,    7, 6479, 1911,    7, 3814, 2159,    0, 2159, 5918, 1110,\n",
       "       1911, 1110, 1534,    0, 1993, 4868, 1911, 1110,    0,   41, 3814,\n",
       "       3880, 4868, 1911, 1993,    7, 2159,   41, 4868, 3814,    0, 4868,\n",
       "       3814,    0, 5918, 1110, 1911,    0, 5140, 1110, 1556, 1534,   41,\n",
       "       2159, 1110,    0,    7, 2159,    0, 5918,    7, 2404,   41, 3814,\n",
       "       3410,    0, 1534, 2159,    7, 2159, 1110, 1968,    0, 1993, 3524,\n",
       "          0, 3420, 1110, 1911, 1534, 4868, 3814,    7, 5025,    0,   41,\n",
       "       3814, 2159, 1110, 1911, 1110, 1534, 2159,    0,   41, 3814,    0,\n",
       "       2159, 5918, 1110,    0, 3880,   41, 5025, 1993,    0,   41,    0,\n",
       "       5918,    7, 2404, 1110,    0, 2159, 4868,    0])"
      ]
     },
     "execution_count": 25,
     "metadata": {},
     "output_type": "execute_result"
    }
   ],
   "source": [
    "review_ids[10]"
   ]
  },
  {
   "cell_type": "code",
   "execution_count": 26,
   "metadata": {},
   "outputs": [],
   "source": [
    "review_ids = np.load('idsMatrix.npy')"
   ]
  },
  {
   "cell_type": "code",
   "execution_count": 27,
   "metadata": {},
   "outputs": [
    {
     "data": {
      "text/plain": [
       "(25000, 250)"
      ]
     },
     "execution_count": 27,
     "metadata": {},
     "output_type": "execute_result"
    }
   ],
   "source": [
    "review_ids.shape"
   ]
  },
  {
   "cell_type": "code",
   "execution_count": 28,
   "metadata": {},
   "outputs": [
    {
     "data": {
      "text/plain": [
       "array([[174943,    152,     14, ...,      0,      0,      0],\n",
       "       [ 26494,     46, 399999, ...,   2153,    144,      7],\n",
       "       [  6520, 399999,     21, ...,      0,      0,      0],\n",
       "       [    37,     14,   2407, ...,      0,      0,      0],\n",
       "       [    37,     14,     36, ...,      0,      0,      0]], dtype=int32)"
      ]
     },
     "execution_count": 28,
     "metadata": {},
     "output_type": "execute_result"
    }
   ],
   "source": [
    "review_ids[:5]"
   ]
  },
  {
   "cell_type": "code",
   "execution_count": 29,
   "metadata": {},
   "outputs": [],
   "source": [
    "x_data = review_ids\n",
    "y_output = np.array(labels)"
   ]
  },
  {
   "cell_type": "code",
   "execution_count": 30,
   "metadata": {},
   "outputs": [
    {
     "name": "stdout",
     "output_type": "stream",
     "text": [
      "400000\n"
     ]
    }
   ],
   "source": [
    "vocabulary_size = len(words)\n",
    "print(vocabulary_size)"
   ]
  },
  {
   "cell_type": "code",
   "execution_count": 31,
   "metadata": {},
   "outputs": [
    {
     "data": {
      "text/plain": [
       "['for a movie that gets no respect there sure are a lot of memorable quotes listed for this gem imagine a movie where joe piscopo is actually funny maureen stapleton is a scene stealer the moroni character is an absolute scream watch for alan the skipper hale jr as a police sgt',\n",
       " 'bizarre horror movie filled with famous faces but stolen by cristina raines later of tvs flamingo road as a pretty but somewhat unstable model with a gummy smile who is slated to pay for her attempted suicides by guarding the gateway to hell the scenes with raines modeling are very well captured the mood music is perfect deborah raffin is charming as cristinas pal but when raines moves into a creepy brooklyn heights brownstone inhabited by a blind priest on the top floor things really start cooking the neighbors including a fantastically wicked burgess meredith and kinky couple sylvia miles  beverly dangelo are a diabolical lot and eli wallach is great fun as a wily police detective the movie is nearly a crosspollination of rosemarys baby and the exorcistbut what a combination based on the bestseller by jeffrey konvitz the sentinel is entertainingly spooky full of shocks brought off well by director michael winner who mounts a thoughtfully downbeat ending with skill 12 from ',\n",
       " 'a solid if unremarkable film matthau as einstein was wonderful my favorite part and the only thing that would make me go out of my way to see this again was the wonderful scene with the physicists playing badmitton i loved the sweaters and the conversation while they waited for robbins to retrieve the birdie',\n",
       " 'its a strange feeling to sit alone in a theater occupied by parents and their rollicking kids i felt like instead of a movie ticket i should have been given a nambla membership  based upon thomas rockwells respected book how to eat fried worms starts like any childrens story moving to a new town the new kid fifth grader billy forrester was once popular but has to start anew making friends is never easy especially when the only prospect is poindexter adam or erica who at 4 12 feet is a giant  further complicating things is joe the bully his freckled face and sleeveless shirts are daunting he antagonizes kids with the death ring a crackerjack ring that is rumored to kill you if youre punched with it but not immediately no the death ring unleashes a poison that kills you in the eight grade  joe and his axis of evil welcome billy by smuggling a handful of slimy worms into his thermos once discovered billy plays it cool swearing that he eats worms all the time then he throws them at joes face ewww to win them over billy reluctantly bets that he can eat 10 worms fried boiled marinated in hot sauce squashed and spread on a peanut butter sandwich each meal is dubbed an exotic name like the radioactive slime delight in which the kids finally live out their dream of microwaving a living organism  if youve ever met me youll know that i have an uncontrollably hearty laugh i felt like a creep erupting at a toddler whining that his dilly dick hurts but fried worms is wonderfully disgusting like a grated farrelly brothers film it is both vomitous and delightful  writerdirector bob dolman is also a savvy storyteller to raise the stakes the worms must be consumed by 7 pm in addition billy holds a dark secret he has an ultrasensitive stomach  dolman also has a keen sense of perspective with such accuracy he draws on childrens insecurities and tendency to exaggerate mundane dilemmas  if you were to hyperbolize this movie the way kids do their quandaries you will see that it is essentially about war freedomfighter and freedomhater use pubescent boys as pawns in proxy wars only to learn a valuable lesson in unity international leaders can learn a thing or two about global peacekeeping from fried worms  at the end of the film i was comforted when two chaperoning mothers behind me looked at each other with befuddlement and agreed that was a great movie great now i wont have to register myself in any lawful databases',\n",
       " 'you probably all already know this by now but 5 additional episodes never aired can be viewed on abccom ive watched a lot of television over the years and this is possibly my favorite show ever its a crime that this beautifully written and acted show was canceled the actors that played laura whit carlos mae damian anya and omg steven caseman  are all incredible and so natural in those roles even the kids are great wonderful show so sad that its gone of course i wonder about the reasons it was canceled there is no way ill let myself believe that ms moynahans pregnancy had anything to do with it it was in the perfect time slot in this market ive watched all the episodes again on abccom  i hope they all come out on dvd some day thanks for reading']"
      ]
     },
     "execution_count": 31,
     "metadata": {},
     "output_type": "execute_result"
    }
   ],
   "source": [
    "data[:5]"
   ]
  },
  {
   "cell_type": "code",
   "execution_count": 32,
   "metadata": {},
   "outputs": [],
   "source": [
    "np.random.seed(22)\n",
    "shuffle_indices = np.random.permutation(np.arange(len(x_data)))\n",
    "\n",
    "x_shuffled = x_data[shuffle_indices]\n",
    "y_shuffled = y_output[shuffle_indices]"
   ]
  },
  {
   "cell_type": "code",
   "execution_count": 33,
   "metadata": {},
   "outputs": [],
   "source": [
    "TRAIN_DATA = 22000\n",
    "TOTAL_DATA = 25000\n",
    "\n",
    "train_data = x_shuffled[:TRAIN_DATA]\n",
    "train_target = y_shuffled[:TRAIN_DATA]\n",
    "\n",
    "test_data = x_shuffled[TRAIN_DATA:TOTAL_DATA]\n",
    "test_target = y_shuffled[TRAIN_DATA:TOTAL_DATA]"
   ]
  },
  {
   "cell_type": "code",
   "execution_count": 34,
   "metadata": {},
   "outputs": [],
   "source": [
    "tf.reset_default_graph()\n",
    "x = tf.placeholder(tf.int32, [None, MAX_SEQUENCE_LENGTH])\n",
    "y = tf.placeholder(tf.int32, [None])"
   ]
  },
  {
   "cell_type": "code",
   "execution_count": 49,
   "metadata": {},
   "outputs": [],
   "source": [
    "num_epoches = 100\n",
    "batch_size = 90\n",
    "embedding_size = 50\n",
    "max_label = 2"
   ]
  },
  {
   "cell_type": "code",
   "execution_count": 36,
   "metadata": {},
   "outputs": [],
   "source": [
    "saved_embeddings = np.load('wordVectors.npy')"
   ]
  },
  {
   "cell_type": "code",
   "execution_count": 37,
   "metadata": {},
   "outputs": [],
   "source": [
    "embeddings = tf.nn.embedding_lookup(saved_embeddings, x)"
   ]
  },
  {
   "cell_type": "code",
   "execution_count": 38,
   "metadata": {},
   "outputs": [
    {
     "data": {
      "text/plain": [
       "(400000, 50)"
      ]
     },
     "execution_count": 38,
     "metadata": {},
     "output_type": "execute_result"
    }
   ],
   "source": [
    "saved_embeddings.shape"
   ]
  },
  {
   "cell_type": "code",
   "execution_count": 39,
   "metadata": {},
   "outputs": [
    {
     "data": {
      "text/plain": [
       "<tf.Tensor 'embedding_lookup:0' shape=(?, 250, 50) dtype=float32>"
      ]
     },
     "execution_count": 39,
     "metadata": {},
     "output_type": "execute_result"
    }
   ],
   "source": [
    "embeddings"
   ]
  },
  {
   "cell_type": "code",
   "execution_count": 40,
   "metadata": {},
   "outputs": [],
   "source": [
    "lstmCell = tf.contrib.rnn.BasicLSTMCell(embedding_size)\n",
    "lstmCell = tf.contrib.rnn.DropoutWrapper(cell=lstmCell, output_keep_prob=0.75)"
   ]
  },
  {
   "cell_type": "code",
   "execution_count": 41,
   "metadata": {},
   "outputs": [],
   "source": [
    "_, (encoding, _) = tf.nn.dynamic_rnn(lstmCell, embeddings, dtype=tf.float32)"
   ]
  },
  {
   "cell_type": "code",
   "execution_count": 42,
   "metadata": {},
   "outputs": [
    {
     "data": {
      "text/plain": [
       "<tf.Tensor 'rnn/while/Exit_3:0' shape=(?, 50) dtype=float32>"
      ]
     },
     "execution_count": 42,
     "metadata": {},
     "output_type": "execute_result"
    }
   ],
   "source": [
    "encoding"
   ]
  },
  {
   "cell_type": "code",
   "execution_count": 43,
   "metadata": {},
   "outputs": [],
   "source": [
    "logits = tf.layers.dense(encoding, max_label, activation=None)"
   ]
  },
  {
   "cell_type": "code",
   "execution_count": 44,
   "metadata": {},
   "outputs": [],
   "source": [
    "cross_entropy = tf.nn.sparse_softmax_cross_entropy_with_logits(logits=logits, labels=y)\n",
    "\n",
    "loss = tf.reduce_mean(cross_entropy)"
   ]
  },
  {
   "cell_type": "code",
   "execution_count": 45,
   "metadata": {},
   "outputs": [],
   "source": [
    "prediction = tf.equal(tf.argmax(logits, 1), tf.cast(y, tf.int64))\n",
    "\n",
    "accuracy = tf.reduce_mean(tf.cast(prediction, tf.float32))"
   ]
  },
  {
   "cell_type": "code",
   "execution_count": 46,
   "metadata": {},
   "outputs": [],
   "source": [
    "optimizer = tf.train.AdadeltaOptimizer(0.01)\n",
    "train_step = optimizer.minimize(loss)"
   ]
  },
  {
   "cell_type": "code",
   "execution_count": 47,
   "metadata": {},
   "outputs": [],
   "source": [
    "init = tf.global_variables_initializer()"
   ]
  },
  {
   "cell_type": "code",
   "execution_count": 50,
   "metadata": {},
   "outputs": [
    {
     "name": "stdout",
     "output_type": "stream",
     "text": [
      "Epoch: 1, Test loss: 0.7, Test Acc: 0.51567\n",
      "Epoch: 2, Test loss: 0.7, Test Acc: 0.52033\n",
      "Epoch: 3, Test loss: 0.7, Test Acc: 0.52\n",
      "Epoch: 4, Test loss: 0.7, Test Acc: 0.523\n",
      "Epoch: 5, Test loss: 0.7, Test Acc: 0.52467\n",
      "Epoch: 6, Test loss: 0.7, Test Acc: 0.526\n",
      "Epoch: 7, Test loss: 0.69, Test Acc: 0.52667\n",
      "Epoch: 8, Test loss: 0.69, Test Acc: 0.527\n",
      "Epoch: 9, Test loss: 0.69, Test Acc: 0.52633\n",
      "Epoch: 10, Test loss: 0.69, Test Acc: 0.52667\n",
      "Epoch: 11, Test loss: 0.69, Test Acc: 0.52667\n",
      "Epoch: 12, Test loss: 0.69, Test Acc: 0.52667\n",
      "Epoch: 13, Test loss: 0.69, Test Acc: 0.52633\n",
      "Epoch: 14, Test loss: 0.69, Test Acc: 0.526\n",
      "Epoch: 15, Test loss: 0.69, Test Acc: 0.52633\n",
      "Epoch: 16, Test loss: 0.69, Test Acc: 0.526\n",
      "Epoch: 17, Test loss: 0.69, Test Acc: 0.527\n",
      "Epoch: 18, Test loss: 0.69, Test Acc: 0.52767\n",
      "Epoch: 19, Test loss: 0.69, Test Acc: 0.52833\n",
      "Epoch: 20, Test loss: 0.69, Test Acc: 0.529\n",
      "Epoch: 21, Test loss: 0.69, Test Acc: 0.53033\n",
      "Epoch: 22, Test loss: 0.69, Test Acc: 0.531\n",
      "Epoch: 23, Test loss: 0.69, Test Acc: 0.532\n",
      "Epoch: 24, Test loss: 0.69, Test Acc: 0.533\n",
      "Epoch: 25, Test loss: 0.69, Test Acc: 0.53533\n",
      "Epoch: 26, Test loss: 0.69, Test Acc: 0.53633\n",
      "Epoch: 27, Test loss: 0.69, Test Acc: 0.53733\n",
      "Epoch: 28, Test loss: 0.69, Test Acc: 0.53733\n",
      "Epoch: 29, Test loss: 0.69, Test Acc: 0.53733\n",
      "Epoch: 30, Test loss: 0.69, Test Acc: 0.538\n",
      "Epoch: 31, Test loss: 0.69, Test Acc: 0.53833\n",
      "Epoch: 32, Test loss: 0.69, Test Acc: 0.53833\n",
      "Epoch: 33, Test loss: 0.69, Test Acc: 0.539\n",
      "Epoch: 34, Test loss: 0.69, Test Acc: 0.538\n",
      "Epoch: 35, Test loss: 0.69, Test Acc: 0.53833\n",
      "Epoch: 36, Test loss: 0.69, Test Acc: 0.53967\n",
      "Epoch: 37, Test loss: 0.69, Test Acc: 0.53933\n",
      "Epoch: 38, Test loss: 0.69, Test Acc: 0.53933\n",
      "Epoch: 39, Test loss: 0.69, Test Acc: 0.53867\n",
      "Epoch: 40, Test loss: 0.69, Test Acc: 0.53867\n",
      "Epoch: 41, Test loss: 0.69, Test Acc: 0.53867\n",
      "Epoch: 42, Test loss: 0.69, Test Acc: 0.539\n",
      "Epoch: 43, Test loss: 0.69, Test Acc: 0.53833\n",
      "Epoch: 44, Test loss: 0.69, Test Acc: 0.53867\n",
      "Epoch: 45, Test loss: 0.69, Test Acc: 0.53933\n",
      "Epoch: 46, Test loss: 0.69, Test Acc: 0.54033\n",
      "Epoch: 47, Test loss: 0.69, Test Acc: 0.53967\n",
      "Epoch: 48, Test loss: 0.69, Test Acc: 0.53933\n",
      "Epoch: 49, Test loss: 0.69, Test Acc: 0.539\n",
      "Epoch: 50, Test loss: 0.69, Test Acc: 0.53867\n",
      "Epoch: 51, Test loss: 0.69, Test Acc: 0.538\n",
      "Epoch: 52, Test loss: 0.69, Test Acc: 0.53767\n",
      "Epoch: 53, Test loss: 0.69, Test Acc: 0.53767\n",
      "Epoch: 54, Test loss: 0.69, Test Acc: 0.53767\n",
      "Epoch: 55, Test loss: 0.69, Test Acc: 0.538\n",
      "Epoch: 56, Test loss: 0.69, Test Acc: 0.53867\n",
      "Epoch: 57, Test loss: 0.69, Test Acc: 0.53867\n",
      "Epoch: 58, Test loss: 0.69, Test Acc: 0.53933\n",
      "Epoch: 59, Test loss: 0.69, Test Acc: 0.53933\n",
      "Epoch: 60, Test loss: 0.69, Test Acc: 0.54\n",
      "Epoch: 61, Test loss: 0.69, Test Acc: 0.53967\n",
      "Epoch: 62, Test loss: 0.69, Test Acc: 0.53933\n",
      "Epoch: 63, Test loss: 0.69, Test Acc: 0.54\n",
      "Epoch: 64, Test loss: 0.69, Test Acc: 0.53967\n",
      "Epoch: 65, Test loss: 0.69, Test Acc: 0.53933\n",
      "Epoch: 66, Test loss: 0.69, Test Acc: 0.53867\n",
      "Epoch: 67, Test loss: 0.69, Test Acc: 0.539\n",
      "Epoch: 68, Test loss: 0.69, Test Acc: 0.53867\n",
      "Epoch: 69, Test loss: 0.69, Test Acc: 0.53133\n",
      "Epoch: 70, Test loss: 0.69, Test Acc: 0.53867\n",
      "Epoch: 71, Test loss: 0.69, Test Acc: 0.53633\n",
      "Epoch: 72, Test loss: 0.69, Test Acc: 0.53333\n",
      "Epoch: 73, Test loss: 0.69, Test Acc: 0.532\n",
      "Epoch: 74, Test loss: 0.69, Test Acc: 0.532\n",
      "Epoch: 75, Test loss: 0.69, Test Acc: 0.53467\n",
      "Epoch: 76, Test loss: 0.69, Test Acc: 0.53333\n",
      "Epoch: 77, Test loss: 0.69, Test Acc: 0.53433\n",
      "Epoch: 78, Test loss: 0.69, Test Acc: 0.53567\n",
      "Epoch: 79, Test loss: 0.69, Test Acc: 0.537\n",
      "Epoch: 80, Test loss: 0.68, Test Acc: 0.53833\n",
      "Epoch: 81, Test loss: 0.68, Test Acc: 0.53867\n",
      "Epoch: 82, Test loss: 0.68, Test Acc: 0.54033\n",
      "Epoch: 83, Test loss: 0.68, Test Acc: 0.54067\n",
      "Epoch: 84, Test loss: 0.68, Test Acc: 0.54067\n",
      "Epoch: 85, Test loss: 0.68, Test Acc: 0.54433\n",
      "Epoch: 86, Test loss: 0.68, Test Acc: 0.54467\n",
      "Epoch: 87, Test loss: 0.68, Test Acc: 0.54833\n",
      "Epoch: 88, Test loss: 0.68, Test Acc: 0.55267\n",
      "Epoch: 89, Test loss: 0.68, Test Acc: 0.555\n",
      "Epoch: 90, Test loss: 0.68, Test Acc: 0.55633\n",
      "Epoch: 91, Test loss: 0.68, Test Acc: 0.557\n",
      "Epoch: 92, Test loss: 0.68, Test Acc: 0.55833\n",
      "Epoch: 93, Test loss: 0.68, Test Acc: 0.56367\n",
      "Epoch: 94, Test loss: 0.68, Test Acc: 0.56733\n",
      "Epoch: 95, Test loss: 0.68, Test Acc: 0.57367\n",
      "Epoch: 96, Test loss: 0.68, Test Acc: 0.58233\n",
      "Epoch: 97, Test loss: 0.67, Test Acc: 0.591\n",
      "Epoch: 98, Test loss: 0.67, Test Acc: 0.622\n",
      "Epoch: 99, Test loss: 0.64, Test Acc: 0.65\n",
      "Epoch: 100, Test loss: 0.62, Test Acc: 0.66833\n"
     ]
    }
   ],
   "source": [
    "with tf.Session() as session:\n",
    "    init.run()\n",
    "    \n",
    "    for epoch in range(num_epoches):\n",
    "        num_batches = int(len(train_data) // batch_size) + 1\n",
    "        \n",
    "        for i in range(num_batches):\n",
    "            \n",
    "            min_ix = i * batch_size\n",
    "            max_ix = np.min([len(train_data), ((i+1) * batch_size)])\n",
    "            \n",
    "            x_train_batch = train_data[min_ix: max_ix]\n",
    "            y_train_batch = train_target[min_ix:max_ix]\n",
    "            \n",
    "            train_dict = {x: x_train_batch, y: y_train_batch}\n",
    "            session.run(train_step, feed_dict=train_dict)\n",
    "            \n",
    "            train_loss, train_acc = session.run([loss, accuracy], feed_dict=train_dict)\n",
    "            \n",
    "        test_dict = {x: test_data, y: test_target}\n",
    "        test_loss, test_acc = session.run([loss, accuracy], feed_dict=test_dict)\n",
    "        print('Epoch: {}, Test loss: {:.2}, Test Acc: {:.5}'.format(epoch+1, test_loss, test_acc))"
   ]
  },
  {
   "cell_type": "code",
   "execution_count": null,
   "metadata": {},
   "outputs": [],
   "source": []
  }
 ],
 "metadata": {
  "kernelspec": {
   "display_name": "Python 3",
   "language": "python",
   "name": "python3"
  },
  "language_info": {
   "codemirror_mode": {
    "name": "ipython",
    "version": 3
   },
   "file_extension": ".py",
   "mimetype": "text/x-python",
   "name": "python",
   "nbconvert_exporter": "python",
   "pygments_lexer": "ipython3",
   "version": "3.6.8"
  }
 },
 "nbformat": 4,
 "nbformat_minor": 2
}
